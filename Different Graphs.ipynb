{
 "cells": [
  {
   "cell_type": "code",
   "execution_count": 1,
   "metadata": {
    "ExecuteTime": {
     "end_time": "2021-05-21T09:27:07.274023Z",
     "start_time": "2021-05-21T09:27:06.925431Z"
    }
   },
   "outputs": [],
   "source": [
    "import numpy as py\n",
    "import networkx as net"
   ]
  },
  {
   "cell_type": "code",
   "execution_count": 2,
   "metadata": {
    "ExecuteTime": {
     "end_time": "2021-05-21T09:27:07.752470Z",
     "start_time": "2021-05-21T09:27:07.744094Z"
    }
   },
   "outputs": [],
   "source": [
    "class Vertices:\n",
    "    def __init__(self, value):\n",
    "        self._value = value\n",
    "        self._edges = {}\n",
    "        self._isVisited = False\n",
    "        \n",
    "    def addEdge(self, vertex, weight):\n",
    "        if self._edges.get(vertex) is None:\n",
    "            self._edges[vertex] = weight\n",
    "            \n",
    "    def getEdges(self):\n",
    "        return self._edges\n",
    "    \n",
    "    def getValue(self):\n",
    "        return self._value"
   ]
  },
  {
   "cell_type": "code",
   "execution_count": 3,
   "metadata": {
    "ExecuteTime": {
     "end_time": "2021-05-21T09:27:09.100690Z",
     "start_time": "2021-05-21T09:27:09.087650Z"
    }
   },
   "outputs": [],
   "source": [
    "class Graph:\n",
    "    \n",
    "    def __init__(self):\n",
    "        self.__vertices = []\n",
    "        \n",
    "    def addVertices(self,value,edge,weight):\n",
    "        if value == edge:\n",
    "            return \"Invalid Edge\"\n",
    "        \n",
    "        vertex1 = py.NaN\n",
    "        vertex2 = py.NaN\n",
    "\n",
    "        for vertex in self.__vertices:\n",
    "            if vertex.getValue() == value:\n",
    "                vertex1 = vertex\n",
    "            elif vertex.getValue() == edge:\n",
    "                vertex2 = vertex\n",
    "\n",
    "        if vertex1 is py.NaN:\n",
    "            vertex1 = Vertices(value)\n",
    "            self.__vertices.append(vertex1)\n",
    "            \n",
    "        if vertex2 is py.NaN:\n",
    "            vertex2 = Vertices(edge)\n",
    "            self.__vertices.append(vertex2)\n",
    "            \n",
    "        vertex1.addEdge(vertex2, weight)\n",
    "            \n",
    "    def show(self):\n",
    "        print(\" \", end=\"\\t\")\n",
    "        for v in self.__vertices:\n",
    "            print(v.getValue(), end='\\t')\n",
    "        print()\n",
    "\n",
    "        for v in self.__vertices:\n",
    "            print(v.getValue(), end=\"\\t\")\n",
    "            edges = v.getEdges()\n",
    "            for e in self.__vertices:\n",
    "                if edges.get(e) is None:\n",
    "                    print(\".\", end=\"\\t\")\n",
    "                else:\n",
    "                    print(edges.get(e), end=\"\\t\")\n",
    "            print()"
   ]
  },
  {
   "cell_type": "code",
   "execution_count": 4,
   "metadata": {
    "ExecuteTime": {
     "end_time": "2021-05-21T09:27:09.753564Z",
     "start_time": "2021-05-21T09:27:09.739863Z"
    }
   },
   "outputs": [],
   "source": [
    "class Graph2:\n",
    "   \n",
    "    def __init__(self):\n",
    "        self.visual = []\n",
    "\n",
    "    def addEdge(self, vertex, neighbor):\n",
    "        temp = [vertex, neighbor]\n",
    "        self.visual.append(temp)\n",
    "          \n",
    "    def visualize(self):\n",
    "        G = net.Graph()\n",
    "        G.add_edges_from(self.visual)\n",
    "        net.draw_networkx(G)"
   ]
  },
  {
   "cell_type": "code",
   "execution_count": 5,
   "metadata": {
    "ExecuteTime": {
     "end_time": "2021-05-21T09:27:11.134757Z",
     "start_time": "2021-05-21T09:27:10.580290Z"
    }
   },
   "outputs": [
    {
     "output_type": "stream",
     "name": "stdout",
     "text": [
      " \tS\tF\tA\tB\tG\tC\tD\tE\t\nS\t.\t3\t2\t1\t.\t.\t.\t.\t\nF\t.\t.\t.\t.\t6\t.\t.\t.\t\nA\t.\t.\t.\t.\t.\t2\t3\t.\t\nB\t.\t.\t.\t.\t.\t.\t2\t4\t\nG\t.\t.\t.\t.\t.\t.\t.\t.\t\nC\t.\t.\t.\t.\t4\t.\t.\t.\t\nD\t.\t.\t.\t.\t4\t.\t.\t.\t\nE\t.\t.\t.\t.\t.\t.\t.\t.\t\n"
     ]
    },
    {
     "output_type": "display_data",
     "data": {
      "text/plain": "<Figure size 432x288 with 1 Axes>",
      "image/svg+xml": "<?xml version=\"1.0\" encoding=\"utf-8\" standalone=\"no\"?>\n<!DOCTYPE svg PUBLIC \"-//W3C//DTD SVG 1.1//EN\"\n  \"http://www.w3.org/Graphics/SVG/1.1/DTD/svg11.dtd\">\n<!-- Created with matplotlib (https://matplotlib.org/) -->\n<svg height=\"231.84pt\" version=\"1.1\" viewBox=\"0 0 349.2 231.84\" width=\"349.2pt\" xmlns=\"http://www.w3.org/2000/svg\" xmlns:xlink=\"http://www.w3.org/1999/xlink\">\n <metadata>\n  <rdf:RDF xmlns:cc=\"http://creativecommons.org/ns#\" xmlns:dc=\"http://purl.org/dc/elements/1.1/\" xmlns:rdf=\"http://www.w3.org/1999/02/22-rdf-syntax-ns#\">\n   <cc:Work>\n    <dc:type rdf:resource=\"http://purl.org/dc/dcmitype/StillImage\"/>\n    <dc:date>2021-05-24T19:42:12.381112</dc:date>\n    <dc:format>image/svg+xml</dc:format>\n    <dc:creator>\n     <cc:Agent>\n      <dc:title>Matplotlib v3.3.0, https://matplotlib.org/</dc:title>\n     </cc:Agent>\n    </dc:creator>\n   </cc:Work>\n  </rdf:RDF>\n </metadata>\n <defs>\n  <style type=\"text/css\">*{stroke-linecap:butt;stroke-linejoin:round;}</style>\n </defs>\n <g id=\"figure_1\">\n  <g id=\"patch_1\">\n   <path d=\"M 0 231.84 \nL 349.2 231.84 \nL 349.2 0 \nL 0 0 \nz\n\" style=\"fill:none;\"/>\n  </g>\n  <g id=\"axes_1\">\n   <g id=\"patch_2\">\n    <path d=\"M 7.2 224.64 \nL 342 224.64 \nL 342 7.2 \nL 7.2 7.2 \nz\n\" style=\"fill:#ffffff;\"/>\n   </g>\n   <g id=\"LineCollection_1\">\n    <path clip-path=\"url(#pcd9bb27cf8)\" d=\"M 204.829668 105.205266 \nL 326.781818 65.275887 \n\" style=\"fill:none;stroke:#000000;\"/>\n    <path clip-path=\"url(#pcd9bb27cf8)\" d=\"M 204.829668 105.205266 \nL 29.578229 66.955628 \n\" style=\"fill:none;stroke:#000000;\"/>\n    <path clip-path=\"url(#pcd9bb27cf8)\" d=\"M 204.829668 105.205266 \nL 129.30651 157.615541 \n\" style=\"fill:none;stroke:#000000;\"/>\n    <path clip-path=\"url(#pcd9bb27cf8)\" d=\"M 326.781818 65.275887 \nL 161.546204 47.177385 \n\" style=\"fill:none;stroke:#000000;\"/>\n    <path clip-path=\"url(#pcd9bb27cf8)\" d=\"M 29.578229 66.955628 \nL 22.418182 17.083636 \n\" style=\"fill:none;stroke:#000000;\"/>\n    <path clip-path=\"url(#pcd9bb27cf8)\" d=\"M 29.578229 66.955628 \nL 62.571348 103.090008 \n\" style=\"fill:none;stroke:#000000;\"/>\n    <path clip-path=\"url(#pcd9bb27cf8)\" d=\"M 129.30651 157.615541 \nL 62.571348 103.090008 \n\" style=\"fill:none;stroke:#000000;\"/>\n    <path clip-path=\"url(#pcd9bb27cf8)\" d=\"M 129.30651 157.615541 \nL 127.204291 214.756364 \n\" style=\"fill:none;stroke:#000000;\"/>\n    <path clip-path=\"url(#pcd9bb27cf8)\" d=\"M 161.546204 47.177385 \nL 22.418182 17.083636 \n\" style=\"fill:none;stroke:#000000;\"/>\n    <path clip-path=\"url(#pcd9bb27cf8)\" d=\"M 161.546204 47.177385 \nL 62.571348 103.090008 \n\" style=\"fill:none;stroke:#000000;\"/>\n   </g>\n   <g id=\"matplotlib.axis_1\">\n    <g id=\"xtick_1\"/>\n    <g id=\"xtick_2\"/>\n    <g id=\"xtick_3\"/>\n    <g id=\"xtick_4\"/>\n    <g id=\"xtick_5\"/>\n    <g id=\"xtick_6\"/>\n    <g id=\"xtick_7\"/>\n   </g>\n   <g id=\"matplotlib.axis_2\">\n    <g id=\"ytick_1\"/>\n    <g id=\"ytick_2\"/>\n    <g id=\"ytick_3\"/>\n    <g id=\"ytick_4\"/>\n    <g id=\"ytick_5\"/>\n    <g id=\"ytick_6\"/>\n    <g id=\"ytick_7\"/>\n    <g id=\"ytick_8\"/>\n   </g>\n   <g id=\"PathCollection_1\">\n    <defs>\n     <path d=\"M 0 8.660254 \nC 2.296726 8.660254 4.499694 7.747755 6.123724 6.123724 \nC 7.747755 4.499694 8.660254 2.296726 8.660254 0 \nC 8.660254 -2.296726 7.747755 -4.499694 6.123724 -6.123724 \nC 4.499694 -7.747755 2.296726 -8.660254 0 -8.660254 \nC -2.296726 -8.660254 -4.499694 -7.747755 -6.123724 -6.123724 \nC -7.747755 -4.499694 -8.660254 -2.296726 -8.660254 0 \nC -8.660254 2.296726 -7.747755 4.499694 -6.123724 6.123724 \nC -4.499694 7.747755 -2.296726 8.660254 0 8.660254 \nz\n\" id=\"m3ec4aeb2d8\" style=\"stroke:#1f78b4;\"/>\n    </defs>\n    <g clip-path=\"url(#pcd9bb27cf8)\">\n     <use style=\"fill:#1f78b4;stroke:#1f78b4;\" x=\"204.829668\" xlink:href=\"#m3ec4aeb2d8\" y=\"105.205266\"/>\n     <use style=\"fill:#1f78b4;stroke:#1f78b4;\" x=\"326.781818\" xlink:href=\"#m3ec4aeb2d8\" y=\"65.275887\"/>\n     <use style=\"fill:#1f78b4;stroke:#1f78b4;\" x=\"29.578229\" xlink:href=\"#m3ec4aeb2d8\" y=\"66.955628\"/>\n     <use style=\"fill:#1f78b4;stroke:#1f78b4;\" x=\"129.30651\" xlink:href=\"#m3ec4aeb2d8\" y=\"157.615541\"/>\n     <use style=\"fill:#1f78b4;stroke:#1f78b4;\" x=\"161.546204\" xlink:href=\"#m3ec4aeb2d8\" y=\"47.177385\"/>\n     <use style=\"fill:#1f78b4;stroke:#1f78b4;\" x=\"22.418182\" xlink:href=\"#m3ec4aeb2d8\" y=\"17.083636\"/>\n     <use style=\"fill:#1f78b4;stroke:#1f78b4;\" x=\"62.571348\" xlink:href=\"#m3ec4aeb2d8\" y=\"103.090008\"/>\n     <use style=\"fill:#1f78b4;stroke:#1f78b4;\" x=\"127.204291\" xlink:href=\"#m3ec4aeb2d8\" y=\"214.756364\"/>\n    </g>\n   </g>\n   <g id=\"patch_3\">\n    <path d=\"M 7.2 224.64 \nL 7.2 7.2 \n\" style=\"fill:none;stroke:#000000;stroke-linecap:square;stroke-linejoin:miter;stroke-width:0.8;\"/>\n   </g>\n   <g id=\"patch_4\">\n    <path d=\"M 342 224.64 \nL 342 7.2 \n\" style=\"fill:none;stroke:#000000;stroke-linecap:square;stroke-linejoin:miter;stroke-width:0.8;\"/>\n   </g>\n   <g id=\"patch_5\">\n    <path d=\"M 7.2 224.64 \nL 342 224.64 \n\" style=\"fill:none;stroke:#000000;stroke-linecap:square;stroke-linejoin:miter;stroke-width:0.8;\"/>\n   </g>\n   <g id=\"patch_6\">\n    <path d=\"M 7.2 7.2 \nL 342 7.2 \n\" style=\"fill:none;stroke:#000000;stroke-linecap:square;stroke-linejoin:miter;stroke-width:0.8;\"/>\n   </g>\n   <g id=\"text_1\">\n    <g clip-path=\"url(#pcd9bb27cf8)\">\n     <!-- S -->\n     <g transform=\"translate(201.020605 108.516516)scale(0.12 -0.12)\">\n      <defs>\n       <path d=\"M 53.515625 70.515625 \nL 53.515625 60.890625 \nQ 47.90625 63.578125 42.921875 64.890625 \nQ 37.9375 66.21875 33.296875 66.21875 \nQ 25.25 66.21875 20.875 63.09375 \nQ 16.5 59.96875 16.5 54.203125 \nQ 16.5 49.359375 19.40625 46.890625 \nQ 22.3125 44.4375 30.421875 42.921875 \nL 36.375 41.703125 \nQ 47.40625 39.59375 52.65625 34.296875 \nQ 57.90625 29 57.90625 20.125 \nQ 57.90625 9.515625 50.796875 4.046875 \nQ 43.703125 -1.421875 29.984375 -1.421875 \nQ 24.8125 -1.421875 18.96875 -0.25 \nQ 13.140625 0.921875 6.890625 3.21875 \nL 6.890625 13.375 \nQ 12.890625 10.015625 18.65625 8.296875 \nQ 24.421875 6.59375 29.984375 6.59375 \nQ 38.421875 6.59375 43.015625 9.90625 \nQ 47.609375 13.234375 47.609375 19.390625 \nQ 47.609375 24.75 44.3125 27.78125 \nQ 41.015625 30.8125 33.5 32.328125 \nL 27.484375 33.5 \nQ 16.453125 35.6875 11.515625 40.375 \nQ 6.59375 45.0625 6.59375 53.421875 \nQ 6.59375 63.09375 13.40625 68.65625 \nQ 20.21875 74.21875 32.171875 74.21875 \nQ 37.3125 74.21875 42.625 73.28125 \nQ 47.953125 72.359375 53.515625 70.515625 \nz\n\" id=\"DejaVuSans-83\"/>\n      </defs>\n      <use xlink:href=\"#DejaVuSans-83\"/>\n     </g>\n    </g>\n   </g>\n   <g id=\"text_2\">\n    <g clip-path=\"url(#pcd9bb27cf8)\">\n     <!-- F -->\n     <g transform=\"translate(323.330881 68.587137)scale(0.12 -0.12)\">\n      <defs>\n       <path d=\"M 9.8125 72.90625 \nL 51.703125 72.90625 \nL 51.703125 64.59375 \nL 19.671875 64.59375 \nL 19.671875 43.109375 \nL 48.578125 43.109375 \nL 48.578125 34.8125 \nL 19.671875 34.8125 \nL 19.671875 0 \nL 9.8125 0 \nz\n\" id=\"DejaVuSans-70\"/>\n      </defs>\n      <use xlink:href=\"#DejaVuSans-70\"/>\n     </g>\n    </g>\n   </g>\n   <g id=\"text_3\">\n    <g clip-path=\"url(#pcd9bb27cf8)\">\n     <!-- A -->\n     <g transform=\"translate(25.473854 70.266878)scale(0.12 -0.12)\">\n      <defs>\n       <path d=\"M 34.1875 63.1875 \nL 20.796875 26.90625 \nL 47.609375 26.90625 \nz\nM 28.609375 72.90625 \nL 39.796875 72.90625 \nL 67.578125 0 \nL 57.328125 0 \nL 50.6875 18.703125 \nL 17.828125 18.703125 \nL 11.1875 0 \nL 0.78125 0 \nz\n\" id=\"DejaVuSans-65\"/>\n      </defs>\n      <use xlink:href=\"#DejaVuSans-65\"/>\n     </g>\n    </g>\n   </g>\n   <g id=\"text_4\">\n    <g clip-path=\"url(#pcd9bb27cf8)\">\n     <!-- B -->\n     <g transform=\"translate(125.189948 160.926791)scale(0.12 -0.12)\">\n      <defs>\n       <path d=\"M 19.671875 34.8125 \nL 19.671875 8.109375 \nL 35.5 8.109375 \nQ 43.453125 8.109375 47.28125 11.40625 \nQ 51.125 14.703125 51.125 21.484375 \nQ 51.125 28.328125 47.28125 31.5625 \nQ 43.453125 34.8125 35.5 34.8125 \nz\nM 19.671875 64.796875 \nL 19.671875 42.828125 \nL 34.28125 42.828125 \nQ 41.5 42.828125 45.03125 45.53125 \nQ 48.578125 48.25 48.578125 53.8125 \nQ 48.578125 59.328125 45.03125 62.0625 \nQ 41.5 64.796875 34.28125 64.796875 \nz\nM 9.8125 72.90625 \nL 35.015625 72.90625 \nQ 46.296875 72.90625 52.390625 68.21875 \nQ 58.5 63.53125 58.5 54.890625 \nQ 58.5 48.1875 55.375 44.234375 \nQ 52.25 40.28125 46.1875 39.3125 \nQ 53.46875 37.75 57.5 32.78125 \nQ 61.53125 27.828125 61.53125 20.40625 \nQ 61.53125 10.640625 54.890625 5.3125 \nQ 48.25 0 35.984375 0 \nL 9.8125 0 \nz\n\" id=\"DejaVuSans-66\"/>\n      </defs>\n      <use xlink:href=\"#DejaVuSans-66\"/>\n     </g>\n    </g>\n   </g>\n   <g id=\"text_5\">\n    <g clip-path=\"url(#pcd9bb27cf8)\">\n     <!-- G -->\n     <g transform=\"translate(156.897142 50.488635)scale(0.12 -0.12)\">\n      <defs>\n       <path d=\"M 59.515625 10.40625 \nL 59.515625 29.984375 \nL 43.40625 29.984375 \nL 43.40625 38.09375 \nL 69.28125 38.09375 \nL 69.28125 6.78125 \nQ 63.578125 2.734375 56.6875 0.65625 \nQ 49.8125 -1.421875 42 -1.421875 \nQ 24.90625 -1.421875 15.25 8.5625 \nQ 5.609375 18.5625 5.609375 36.375 \nQ 5.609375 54.25 15.25 64.234375 \nQ 24.90625 74.21875 42 74.21875 \nQ 49.125 74.21875 55.546875 72.453125 \nQ 61.96875 70.703125 67.390625 67.28125 \nL 67.390625 56.78125 \nQ 61.921875 61.421875 55.765625 63.765625 \nQ 49.609375 66.109375 42.828125 66.109375 \nQ 29.4375 66.109375 22.71875 58.640625 \nQ 16.015625 51.171875 16.015625 36.375 \nQ 16.015625 21.625 22.71875 14.15625 \nQ 29.4375 6.6875 42.828125 6.6875 \nQ 48.046875 6.6875 52.140625 7.59375 \nQ 56.25 8.5 59.515625 10.40625 \nz\n\" id=\"DejaVuSans-71\"/>\n      </defs>\n      <use xlink:href=\"#DejaVuSans-71\"/>\n     </g>\n    </g>\n   </g>\n   <g id=\"text_6\">\n    <g clip-path=\"url(#pcd9bb27cf8)\">\n     <!-- C -->\n     <g transform=\"translate(18.228494 20.394886)scale(0.12 -0.12)\">\n      <defs>\n       <path d=\"M 64.40625 67.28125 \nL 64.40625 56.890625 \nQ 59.421875 61.53125 53.78125 63.8125 \nQ 48.140625 66.109375 41.796875 66.109375 \nQ 29.296875 66.109375 22.65625 58.46875 \nQ 16.015625 50.828125 16.015625 36.375 \nQ 16.015625 21.96875 22.65625 14.328125 \nQ 29.296875 6.6875 41.796875 6.6875 \nQ 48.140625 6.6875 53.78125 8.984375 \nQ 59.421875 11.28125 64.40625 15.921875 \nL 64.40625 5.609375 \nQ 59.234375 2.09375 53.4375 0.328125 \nQ 47.65625 -1.421875 41.21875 -1.421875 \nQ 24.65625 -1.421875 15.125 8.703125 \nQ 5.609375 18.84375 5.609375 36.375 \nQ 5.609375 53.953125 15.125 64.078125 \nQ 24.65625 74.21875 41.21875 74.21875 \nQ 47.75 74.21875 53.53125 72.484375 \nQ 59.328125 70.75 64.40625 67.28125 \nz\n\" id=\"DejaVuSans-67\"/>\n      </defs>\n      <use xlink:href=\"#DejaVuSans-67\"/>\n     </g>\n    </g>\n   </g>\n   <g id=\"text_7\">\n    <g clip-path=\"url(#pcd9bb27cf8)\">\n     <!-- D -->\n     <g transform=\"translate(57.951348 106.401258)scale(0.12 -0.12)\">\n      <defs>\n       <path d=\"M 19.671875 64.796875 \nL 19.671875 8.109375 \nL 31.59375 8.109375 \nQ 46.6875 8.109375 53.6875 14.9375 \nQ 60.6875 21.78125 60.6875 36.53125 \nQ 60.6875 51.171875 53.6875 57.984375 \nQ 46.6875 64.796875 31.59375 64.796875 \nz\nM 9.8125 72.90625 \nL 30.078125 72.90625 \nQ 51.265625 72.90625 61.171875 64.09375 \nQ 71.09375 55.28125 71.09375 36.53125 \nQ 71.09375 17.671875 61.125 8.828125 \nQ 51.171875 0 30.078125 0 \nL 9.8125 0 \nz\n\" id=\"DejaVuSans-68\"/>\n      </defs>\n      <use xlink:href=\"#DejaVuSans-68\"/>\n     </g>\n    </g>\n   </g>\n   <g id=\"text_8\">\n    <g clip-path=\"url(#pcd9bb27cf8)\">\n     <!-- E -->\n     <g transform=\"translate(123.413041 218.067614)scale(0.12 -0.12)\">\n      <defs>\n       <path d=\"M 9.8125 72.90625 \nL 55.90625 72.90625 \nL 55.90625 64.59375 \nL 19.671875 64.59375 \nL 19.671875 43.015625 \nL 54.390625 43.015625 \nL 54.390625 34.71875 \nL 19.671875 34.71875 \nL 19.671875 8.296875 \nL 56.78125 8.296875 \nL 56.78125 0 \nL 9.8125 0 \nz\n\" id=\"DejaVuSans-69\"/>\n      </defs>\n      <use xlink:href=\"#DejaVuSans-69\"/>\n     </g>\n    </g>\n   </g>\n  </g>\n </g>\n <defs>\n  <clipPath id=\"pcd9bb27cf8\">\n   <rect height=\"217.44\" width=\"334.8\" x=\"7.2\" y=\"7.2\"/>\n  </clipPath>\n </defs>\n</svg>\n",
      "image/png": "[encoded data removed]"
     },
     "metadata": {}
    }
   ],
   "source": [
    "g = Graph()\n",
    "g.addVertices('S','F',3)\n",
    "g.addVertices('S','A',2)\n",
    "g.addVertices('S','B',1)\n",
    "g.addVertices('F','G',6)\n",
    "g.addVertices('A','C',2)\n",
    "g.addVertices('A','D',3)\n",
    "g.addVertices('B','D',2)\n",
    "g.addVertices('B','E',4)\n",
    "g.addVertices('C','G',4)\n",
    "g.addVertices('D','G',4)\n",
    "g.show()\n",
    "\n",
    "G = Graph2()\n",
    "G.addEdge('S','F')\n",
    "G.addEdge('S','A')\n",
    "G.addEdge('S','B')\n",
    "G.addEdge('F','G')\n",
    "G.addEdge('A','C')\n",
    "G.addEdge('A','D')\n",
    "G.addEdge('B','D')\n",
    "G.addEdge('B','E')\n",
    "G.addEdge('C','G')\n",
    "G.addEdge('D','G')\n",
    "G.visualize()"
   ]
  },
  {
   "cell_type": "code",
   "execution_count": 6,
   "metadata": {
    "ExecuteTime": {
     "end_time": "2021-05-21T09:27:11.346143Z",
     "start_time": "2021-05-21T09:27:11.340515Z"
    }
   },
   "outputs": [],
   "source": [
    "graph = {\n",
    "  'S' : ['F','A','B'],\n",
    "  'B' : ['D', 'E'],\n",
    "  'A' : ['C','D'],\n",
    "  'F' : ['G'],\n",
    "  'C' : ['G'],\n",
    "  'D' : ['G'],\n",
    "  'G' : [],\n",
    "  'E' : []\n",
    "}"
   ]
  },
  {
   "cell_type": "code",
   "execution_count": 7,
   "metadata": {
    "ExecuteTime": {
     "end_time": "2021-05-21T09:27:12.305460Z",
     "start_time": "2021-05-21T09:27:12.295315Z"
    }
   },
   "outputs": [
    {
     "output_type": "stream",
     "name": "stdout",
     "text": [
      "S F A B G "
     ]
    }
   ],
   "source": [
    "visited = []\n",
    "queue = []\n",
    "    \n",
    "def bfs(visited, graph, node, exit):\n",
    "    visited.append(node)\n",
    "    queue.append(node)\n",
    "\n",
    "    while queue:\n",
    "        s = queue.pop(0) \n",
    "        if s == exit:\n",
    "            print(s, end=\" \")\n",
    "            return \n",
    "        else:\n",
    "            print (s, end = \" \") \n",
    "\n",
    "        for neighbour in graph[s]:\n",
    "            if neighbour not in visited:\n",
    "                visited.append(neighbour)\n",
    "                queue.append(neighbour)\n",
    "\n",
    "bfs(visited, graph, 'S','G')"
   ]
  },
  {
   "cell_type": "code",
   "execution_count": 8,
   "metadata": {
    "ExecuteTime": {
     "end_time": "2021-05-21T09:27:13.044074Z",
     "start_time": "2021-05-21T09:27:13.035384Z"
    }
   },
   "outputs": [
    {
     "output_type": "stream",
     "name": "stdout",
     "text": [
      "S F G "
     ]
    }
   ],
   "source": [
    "visited = set()\n",
    "\n",
    "def dfs(visited, graph, node,exit):\n",
    "    while visited != exit:\n",
    "        if exit in visited:\n",
    "            break\n",
    "        if node not in visited:\n",
    "            print (node, end=\" \")\n",
    "            visited.add(node)\n",
    "        for neighbour in graph[node]:\n",
    "            dfs(visited, graph, neighbour,exit)\n",
    "\n",
    "dfs(visited, graph, 'S','G')"
   ]
  },
  {
   "cell_type": "code",
   "execution_count": 9,
   "metadata": {
    "ExecuteTime": {
     "end_time": "2021-05-21T09:27:14.196953Z",
     "start_time": "2021-05-21T09:27:14.165898Z"
    }
   },
   "outputs": [
    {
     "output_type": "stream",
     "name": "stdout",
     "text": [
      "S distance: 0\nB distance: 1\nD distance: 3\nG distance: 7\n\n"
     ]
    }
   ],
   "source": [
    "class Graph:\n",
    "    \n",
    "    def __init__(self, gDict=None, directed=True):\n",
    "        self.gDict = gDict or {}\n",
    "        self.directed = directed\n",
    "        if not directed:\n",
    "            self.makeUndirected()\n",
    "            \n",
    "#Undirected Graph by adding symmetric Edges\n",
    "    def makeUndirected(self):\n",
    "        for a in list(self.gDict.keys()):\n",
    "            for (b, dist) in self.gDict[a].items():\n",
    "                self.gDict.setdefault(b,{})[a] = dist\n",
    "                \n",
    "#Linking A and B from the given distance\n",
    "#Reverse link if graph !directed\n",
    "    def connection (self, A, B, distance=1):\n",
    "        self.gDict.setdefault(A,{})[B] = distance\n",
    "        if not self.directed:\n",
    "            self.gDict.setdefault(B,{})[A] = distance\n",
    "            \n",
    "#Getting neighbors\n",
    "    def get(self, a, b=None):\n",
    "        links = self.gDict.setdefault(a,{})\n",
    "        if b is None:\n",
    "            return links\n",
    "        else:\n",
    "            return links.get(b)\n",
    "        \n",
    "#Returning list of nodes in graph\n",
    "    def nodes(self):\n",
    "        node1 = set([k for k in self.gDict.keys()])\n",
    "        node2 = set([k2 for v in self.gDict.values() for k2,v2 in v.items])\n",
    "        nodes = nodes1.union(nodes2)\n",
    "        return list(nodes)\n",
    "    \n",
    "class Node:\n",
    "    \n",
    "    def __init__(self, name:str, parent:str):\n",
    "        self.name = name\n",
    "        self.parent = parent\n",
    "        self.start = 0\n",
    "        self.end = 0\n",
    "        self.total = 0\n",
    "        \n",
    "#comparing nodes\n",
    "    def __eq__ (self, other):\n",
    "        return self.name == other.name\n",
    "\n",
    "#sorting nodes\n",
    "    def __lt__ (self, other):\n",
    "        return self.total < other.total\n",
    "\n",
    "#print node\n",
    "    def __repr__ (self):\n",
    "        return ('({0},{1})'.format(self.name,self.total))\n",
    "    \n",
    "#A star search \n",
    "def a_star_search(graph, heuristics, source, exit):\n",
    "#create list for open and close nodes\n",
    "    open = []\n",
    "    closed=[]\n",
    "#creating source node and exit node\n",
    "    source_node = Node(source, None)\n",
    "    exit_node = Node(exit, None)\n",
    "#adding the source node\n",
    "    open.append(source_node)\n",
    "    \n",
    "#Looping until list is empty\n",
    "    while len(open)>0:\n",
    "#sorting the open nodes w/ lowest cost\n",
    "        open.sort()\n",
    "#getting the node w/ lowest cost\n",
    "        current_node = open.pop(0)\n",
    "#adding current node to closed nodes\n",
    "        closed.append(current_node)\n",
    "    \n",
    "#check if goal is reached and return path\n",
    "        if current_node == exit_node:\n",
    "            path = []\n",
    "            while current_node != source_node:\n",
    "                path.append(current_node.name + ' distance: '+ str(current_node.start)+'\\n')\n",
    "                current_node = current_node.parent\n",
    "            path.append(current_node.name + ' distance: '+ str(current_node.start)+'\\n')\n",
    "            return path[::-1]\n",
    "    \n",
    "#getting neighbors\n",
    "        neighbors = graph.get(current_node.name)\n",
    "#looping neighbors\n",
    "        for key,value in neighbors.items():\n",
    "            neighbors = Node(key, current_node)\n",
    "            if (neighbors in closed):\n",
    "                continue\n",
    "            neighbors.start = current_node.start + graph.get(current_node.name,neighbors.name)\n",
    "            neighbors.exit = heuristics.get(neighbors.name)\n",
    "            neighbors.total = neighbors.start + neighbors.exit\n",
    "            if (add_to_open(open,neighbors) == True):\n",
    "                open.append(neighbors)\n",
    "    return None\n",
    "\n",
    "def add_to_open(open, neighbors):\n",
    "    for node in open:\n",
    "        if (neighbors == node and neighbors.total > node.total):\n",
    "            return False\n",
    "    return True\n",
    "\n",
    "def main():\n",
    "    graph = Graph()\n",
    "\n",
    "    graph.connection('S', 'A', 2)\n",
    "    graph.connection('S', 'F', 3)\n",
    "    graph.connection('S', 'B', 1)\n",
    "    graph.connection('F', 'G', 6)\n",
    "    graph.connection('A', 'C', 2)\n",
    "    graph.connection('A', 'D', 3)\n",
    "    graph.connection('B', 'D', 2)\n",
    "    graph.connection('B', 'E', 4)\n",
    "    graph.connection('C', 'G', 4)\n",
    "    graph.connection('D', 'G', 4)\n",
    "    graph.makeUndirected()\n",
    "    \n",
    "    heuristics = {}\n",
    "    heuristics['S'] = 6\n",
    "    heuristics['A'] = 4\n",
    "    heuristics['B'] = 5\n",
    "    heuristics['C'] = 2\n",
    "    heuristics['D'] = 2\n",
    "    heuristics['E'] = 8\n",
    "    heuristics['F'] = 4\n",
    "    heuristics['G'] = 0\n",
    "    \n",
    "    path = a_star_search(graph,heuristics,'S','G')\n",
    "    for i in range(0,len(path)):\n",
    "        if(i+1 == len(path)):\n",
    "            print(path[i])\n",
    "        else:\n",
    "            print(path[i], end = \"\")\n",
    "            \n",
    "if __name__ == \"__main__\": main()"
   ]
  },
  {
   "cell_type": "code",
   "execution_count": null,
   "metadata": {},
   "outputs": [],
   "source": []
  }
 ],
 "metadata": {
  "kernelspec": {
   "name": "python385jvsc74a57bd09d59ad80096bcc3b21ad1e5b4543253edc45deb370a86f06c309657df8214224",
   "display_name": "Python 3.8.5 64-bit ('base': conda)"
  },
  "language_info": {
   "codemirror_mode": {
    "name": "ipython",
    "version": 3
   },
   "file_extension": ".py",
   "mimetype": "text/x-python",
   "name": "python",
   "nbconvert_exporter": "python",
   "pygments_lexer": "ipython3",
   "version": "3.8.5"
  }
 },
 "nbformat": 4,
 "nbformat_minor": 2
}